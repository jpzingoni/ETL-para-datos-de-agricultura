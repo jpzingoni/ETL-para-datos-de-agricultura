{
 "cells": [
  {
   "cell_type": "code",
   "execution_count": 1,
   "id": "b59c4ea0-8043-4010-9518-38009b2ad704",
   "metadata": {},
   "outputs": [],
   "source": [
    "#Se importan las librerias para trabajar\n",
    "import pandas as pd\n",
    "import requests"
   ]
  },
  {
   "cell_type": "code",
   "execution_count": 2,
   "id": "4343c635-0ea9-4bb6-a557-58957c94ce12",
   "metadata": {},
   "outputs": [],
   "source": [
    "#Se guarda la url para poder buscar las referencias geograficas\n",
    "url = 'https://apis.datos.gob.ar/georef/api/departamentos'"
   ]
  },
  {
   "cell_type": "code",
   "execution_count": 3,
   "id": "f3dc690a-0f18-4668-9e56-0863722452e4",
   "metadata": {},
   "outputs": [],
   "source": [
    "#Para realizar el metodo post a departamentos se pueden espeficiar los parámetros. \n",
    "#Se crea la variable paramtros para pasar los parámetros e incremtar el numero de respuetas obtenidas.\n",
    "parametros = {\n",
    "    \"departamentos\": [\n",
    "        {\n",
    "            #\"id\": \"string\",\n",
    "            #\"nombre\": \"string\",\n",
    "            #\"provincia\": \"Santa Fe\",\n",
    "            #\"interseccion\": \"provincia:82,departamento:82084,municipio:820196\",\n",
    "            \"orden\": \"id\",\n",
    "            \"aplanar\": True,\n",
    "            \"campos\": \"estandar\",\n",
    "            \"max\": 600,\n",
    "            \"inicio\": 0,\n",
    "            \"exacto\": True\n",
    "        }\n",
    "    ]\n",
    "}"
   ]
  },
  {
   "cell_type": "code",
   "execution_count": 4,
   "id": "75037d68-ecb0-453c-89e2-116582360096",
   "metadata": {},
   "outputs": [
    {
     "name": "stdout",
     "output_type": "stream",
     "text": [
      "Solicitud correcta. Statuscode: 200\n"
     ]
    }
   ],
   "source": [
    "#Se realiza una petición para obtener la respuesta\n",
    "try:\n",
    "    response = requests.post(url, json=parametros)\n",
    "    response.raise_for_status()\n",
    "    print(f'Solicitud correcta. Statuscode: {response.status_code}')\n",
    "except requests.exceptions.RequestException as e:\n",
    "    print(f'Error en la solicitud: {e}')"
   ]
  },
  {
   "cell_type": "code",
   "execution_count": 5,
   "id": "e6331067-09e4-48ee-9ba6-8675e8e92024",
   "metadata": {},
   "outputs": [],
   "source": [
    "#Se guarda la variable como json para poder trabajarla\n",
    "responsejson = response.json()"
   ]
  },
  {
   "cell_type": "code",
   "execution_count": 6,
   "id": "d9c90c75-2f94-475f-a4fb-d3e6bab7edfe",
   "metadata": {},
   "outputs": [],
   "source": [
    "#Se guardan los resultados de los departamentos en una variable.\n",
    "infoDepartamentos = responsejson['resultados'][0]['departamentos']"
   ]
  },
  {
   "cell_type": "code",
   "execution_count": 7,
   "id": "6c80dd02-facc-4348-869e-44bf9f60cdb3",
   "metadata": {},
   "outputs": [
    {
     "data": {
      "text/plain": [
       "{'centroide_lat': -54.7704623704114,\n",
       " 'centroide_lon': -66.6837162279656,\n",
       " 'id': '94015',\n",
       " 'nombre': 'Ushuaia',\n",
       " 'provincia_id': '94',\n",
       " 'provincia_nombre': 'Tierra del Fuego, Antártida e Islas del Atlántico Sur'}"
      ]
     },
     "execution_count": 7,
     "metadata": {},
     "output_type": "execute_result"
    }
   ],
   "source": [
    "infoDepartamentos[-3]"
   ]
  },
  {
   "cell_type": "code",
   "execution_count": 8,
   "id": "f2f26f39-66bb-42d9-b617-476ceec5e0fb",
   "metadata": {},
   "outputs": [],
   "source": [
    "#Se crea un data frame con la información de los departamentos. Esto luego se va a utilizar para obtener las coordenadas\n",
    "#y combinar esas coordenadas con los departamentos de los partidos.\n",
    "dfDepartamentos = pd.DataFrame(infoDepartamentos)"
   ]
  },
  {
   "cell_type": "code",
   "execution_count": 9,
   "id": "61cd8002-341b-4937-acdc-8c9002a5a564",
   "metadata": {},
   "outputs": [],
   "source": [
    "#Se carga el archivo de estimaciones agricolas para poder crear el data frame y combinarlo para obtener las coodernadas\n",
    "#Los datos fueron descargados desde https://geoportal.magyp.gob.ar/tematizador/agricola/\n",
    "archivoEstimaciones = 'estimacionesAgricolas2023.xlsx'\n",
    "dfEstimaciones = pd.read_excel(archivoEstimaciones)"
   ]
  },
  {
   "cell_type": "code",
   "execution_count": 10,
   "id": "e87dd555-c4f1-4a09-988b-0ddd18f9a0b6",
   "metadata": {},
   "outputs": [
    {
     "data": {
      "text/plain": [
       "Index(['centroide_lat', 'centroide_lon', 'id', 'nombre', 'provincia_id',\n",
       "       'provincia_nombre'],\n",
       "      dtype='object')"
      ]
     },
     "execution_count": 10,
     "metadata": {},
     "output_type": "execute_result"
    }
   ],
   "source": [
    "dfDepartamentos.columns"
   ]
  },
  {
   "cell_type": "code",
   "execution_count": 11,
   "id": "874d89f6-c678-45b4-a065-ee8a3b2c91fb",
   "metadata": {},
   "outputs": [
    {
     "data": {
      "text/plain": [
       "Index(['id_provincia', 'provincia', 'id_departamento', 'departamento',\n",
       "       'id_cultivo', 'cultivo', 'id_campaña', 'campaña', 'sup_sembrada',\n",
       "       'sup_cosechada', 'produccion ', 'rendimiento'],\n",
       "      dtype='object')"
      ]
     },
     "execution_count": 11,
     "metadata": {},
     "output_type": "execute_result"
    }
   ],
   "source": [
    "dfEstimaciones.columns"
   ]
  },
  {
   "cell_type": "code",
   "execution_count": 12,
   "id": "6ab6dff7-5662-41f7-b248-cb7baec1b188",
   "metadata": {},
   "outputs": [],
   "source": [
    "#Los data frames tienen nombres de la columnas distintas por lo que hay que modificar los nombres de las columnas\n",
    "#para poder realizar las comparaciones entre las mismas y trabajarlas. En este caso la comparación que queremos realizar es entre los id\n",
    "#de \"provincia\" y \"id_departamento\" entonces tenemos que hacer que los nombres sean iguales\n",
    "dfDepartamentos.rename(columns={'provincia_id':'id_provincia',\n",
    "                               'id':'id_departamento'},\n",
    "                      inplace=True)"
   ]
  },
  {
   "cell_type": "code",
   "execution_count": 13,
   "id": "7fedb8c3-2d5e-4bef-8884-d285ca238295",
   "metadata": {},
   "outputs": [
    {
     "data": {
      "text/plain": [
       "Index(['centroide_lat', 'centroide_lon', 'id_departamento', 'nombre',\n",
       "       'id_provincia', 'provincia_nombre'],\n",
       "      dtype='object')"
      ]
     },
     "execution_count": 13,
     "metadata": {},
     "output_type": "execute_result"
    }
   ],
   "source": [
    "dfDepartamentos.columns"
   ]
  },
  {
   "cell_type": "code",
   "execution_count": 14,
   "id": "a4d9f9cf-98f8-469f-9ec8-123fc637c0da",
   "metadata": {},
   "outputs": [
    {
     "data": {
      "text/plain": [
       "Index(['id_provincia', 'provincia', 'id_departamento', 'departamento',\n",
       "       'id_cultivo', 'cultivo', 'id_campaña', 'campaña', 'sup_sembrada',\n",
       "       'sup_cosechada', 'produccion ', 'rendimiento'],\n",
       "      dtype='object')"
      ]
     },
     "execution_count": 14,
     "metadata": {},
     "output_type": "execute_result"
    }
   ],
   "source": [
    "dfEstimaciones.columns"
   ]
  },
  {
   "cell_type": "code",
   "execution_count": 15,
   "id": "bee59c18-b77d-44e9-bd5c-fcca552edbdc",
   "metadata": {},
   "outputs": [],
   "source": [
    "#Es df de estimaciones tiene valores para id_departamento con el valor 0, que su nombre de departamento figura como \"sin definir\".\n",
    "#Se realizó una busqueda y no hay departamento con id = 0 en las base de datos u otros archivos.\n",
    "#Se decide seleccionar todas esas columnas y eliminarlas del df. Son 592 datos en total los que se descartan\n",
    "dfEstimaciones.drop(dfEstimaciones[dfEstimaciones['id_departamento'] == 0].index, inplace=True)"
   ]
  },
  {
   "cell_type": "code",
   "execution_count": 16,
   "id": "8c2710e2-6a46-4875-8017-bb849c108f5c",
   "metadata": {},
   "outputs": [],
   "source": [
    "#Se trabaja sobre el df de departamentos.\n",
    "#El id departamento viene enlazado primero con el código de la provincia por lo que hay que descartarlo para convertirlo y que sea igual al que figura\n",
    "#en el df de estimaciones\n",
    "#Luego de descartar esos valores se convierten los valores a int64 para que sean iguales a los del df de estimaciones. \n",
    "#Esto se hace para luego poder comparar y realiar un merge de ambos data frames.\n",
    "dfDepartamentos['id_departamento'] = dfDepartamentos['id_departamento'].str[-3:]\n",
    "dfDepartamentos['id_departamento'] = dfDepartamentos['id_departamento'].astype('int64')\n",
    "dfDepartamentos['id_provincia'] = dfDepartamentos['id_provincia'].astype('int64')"
   ]
  },
  {
   "cell_type": "code",
   "execution_count": 17,
   "id": "c214f0da-0bba-42d2-b68e-2869447e161d",
   "metadata": {},
   "outputs": [
    {
     "data": {
      "text/plain": [
       "dtype('int64')"
      ]
     },
     "execution_count": 17,
     "metadata": {},
     "output_type": "execute_result"
    }
   ],
   "source": [
    "dfDepartamentos['id_departamento'].dtype"
   ]
  },
  {
   "cell_type": "code",
   "execution_count": 18,
   "id": "1d1ce0e7-e71a-446d-9eca-461bb349180e",
   "metadata": {},
   "outputs": [
    {
     "data": {
      "text/plain": [
       "dtype('int64')"
      ]
     },
     "execution_count": 18,
     "metadata": {},
     "output_type": "execute_result"
    }
   ],
   "source": [
    "dfEstimaciones['id_departamento'].dtype"
   ]
  },
  {
   "cell_type": "code",
   "execution_count": 19,
   "id": "069f17a5-681d-4b74-8c07-8f14410a1ccd",
   "metadata": {},
   "outputs": [],
   "source": [
    "#Se hace una combinación de los dos df. Se busca que matcheen las columnas id_departamento e id_provincia.\n",
    "#Si para esas columnas el match es True se agregan esas filas al nuevo df\n",
    "dfEstimacionesConCoordenadas = pd.merge(dfEstimaciones, dfDepartamentos, on=['id_departamento', 'id_provincia'], how='left')"
   ]
  },
  {
   "cell_type": "code",
   "execution_count": 20,
   "id": "d64e8c56-1cc1-4cc1-b138-45fd5b123c78",
   "metadata": {},
   "outputs": [],
   "source": [
    "#El campo del texto campaña figura con la siguiente expresión 'año1/año2'.\n",
    "#Nos interesa quedarnos unicamente con el primer año para luego poder trabajar\n",
    "dfEstimacionesConCoordenadas['campaña'] = dfEstimacionesConCoordenadas['campaña'].str[:4]"
   ]
  },
  {
   "cell_type": "code",
   "execution_count": 21,
   "id": "06c37627-0922-4c9f-9794-297afad05d7d",
   "metadata": {},
   "outputs": [],
   "source": [
    "#El dataframe obtenido tiene algunos valores que no están definido. En la columna rendimiento algunas filas no tienen su valor\n",
    "#Por lo que se las excluye para que luego no generen problemas el realizar los modelados de datos\n",
    "dfEstimacionesConCoordenadas = dfEstimacionesConCoordenadas[dfEstimacionesConCoordenadas['rendimiento'] != 'SD']"
   ]
  },
  {
   "cell_type": "code",
   "execution_count": 22,
   "id": "8ef4a276-e2b8-4da8-bc59-97884623c5a6",
   "metadata": {},
   "outputs": [
    {
     "name": "stdout",
     "output_type": "stream",
     "text": [
      "indice columna: 0, nombre: id_provincia\n",
      "indice columna: 1, nombre: provincia\n",
      "indice columna: 2, nombre: id_departamento\n",
      "indice columna: 3, nombre: departamento\n",
      "indice columna: 4, nombre: id_cultivo\n",
      "indice columna: 5, nombre: cultivo\n",
      "indice columna: 6, nombre: id_campaña\n",
      "indice columna: 7, nombre: campaña\n",
      "indice columna: 8, nombre: sup_sembrada\n",
      "indice columna: 9, nombre: sup_cosechada\n",
      "indice columna: 10, nombre: produccion \n",
      "indice columna: 11, nombre: rendimiento\n",
      "indice columna: 12, nombre: centroide_lat\n",
      "indice columna: 13, nombre: centroide_lon\n",
      "indice columna: 14, nombre: nombre\n",
      "indice columna: 15, nombre: provincia_nombre\n"
     ]
    }
   ],
   "source": [
    "#Se obtiene el nombre de las columnas del dataframe. Para luego poder orderanlos según la columna.\n",
    "#Se lo guarda en una variable para que sea más fácil de modificar ante cambios futuros.\n",
    "\n",
    "nombreColumnas = dfEstimacionesConCoordenadas.columns\n",
    "\n",
    "#Se imprimen los nombres de las columnas con su índices para luego poder acceder a la variable previamente definida\n",
    "\n",
    "for index, nombre in enumerate(nombreColumnas):\n",
    "    print(f'indice columna: {index}, nombre: {nombre}')"
   ]
  },
  {
   "cell_type": "code",
   "execution_count": 23,
   "id": "fcc66142-2af3-4085-b48f-74b67952c5b6",
   "metadata": {},
   "outputs": [],
   "source": [
    "#Se especifica el orden y las columnas como se quiere obtener el dataframe\n",
    "ordenColumnas = [nombreColumnas[1],\n",
    "                 nombreColumnas[0],\n",
    "                 nombreColumnas[3],\n",
    "                 nombreColumnas[2],\n",
    "                 nombreColumnas[5],\n",
    "                 nombreColumnas[8],\n",
    "                 nombreColumnas[9],\n",
    "                 nombreColumnas[10],\n",
    "                 nombreColumnas[11],\n",
    "                 nombreColumnas[7],\n",
    "                 nombreColumnas[12],\n",
    "                 nombreColumnas[13]\n",
    "                ]"
   ]
  },
  {
   "cell_type": "code",
   "execution_count": 24,
   "id": "2345aa91-e6be-4ed1-8ce3-5b082077915a",
   "metadata": {},
   "outputs": [],
   "source": [
    "#Se aplica el orden de las columnas al dataframe. Tener en cuenta que las columnas que no se seleccionan no van a figurar en el dataframe\n",
    "dfEstimacionesConCoordenadas = dfEstimacionesConCoordenadas[ordenColumnas]"
   ]
  },
  {
   "cell_type": "code",
   "execution_count": 25,
   "id": "28beab29-a74a-48e8-a300-256c64bc44dc",
   "metadata": {},
   "outputs": [],
   "source": [
    "#Se ordena el df por columnas\n",
    "dfEstimacionesConCoordenadas = dfEstimacionesConCoordenadas.sort_values(['provincia','departamento', 'cultivo', 'campaña'])"
   ]
  },
  {
   "cell_type": "code",
   "execution_count": 26,
   "id": "01c34b41-05dd-4ea0-b0c9-94842f236ad9",
   "metadata": {},
   "outputs": [],
   "source": [
    "#Se crea un diccionario con categorias para los cultivos, para luego agregar una columna de categorias de cultivos\n",
    "cultivos = {\n",
    "    'Ajo': 'Hortalizas',\n",
    "    'Algodón': 'Industriales',\n",
    "    'Alpiste': 'Cereales',\n",
    "    'Arroz': 'Cereales',\n",
    "    'Arveja': 'Legumbres',\n",
    "    'Avena': 'Cereales',\n",
    "    'Banana': 'Frutales',\n",
    "    'Caña de azúcar': 'Industriales',\n",
    "    'Cártamo': 'Industriales',\n",
    "    'Cebada total': 'Cereales',\n",
    "    'Cebada cervecera': 'Cereales',\n",
    "    'Cebada forrajera': 'Cereales',\n",
    "    'Cebolla total': 'Hortalizas',\n",
    "    'Centeno': 'Cereales',\n",
    "    'Colza': 'Oleaginosas',\n",
    "    'Garbanzo': 'Legumbres',\n",
    "    'Girasol': 'Oleaginosas',\n",
    "    'Jojoba': 'Frutales',\n",
    "    'Lenteja': 'Legumbres',\n",
    "    'Limón': 'Frutales',\n",
    "    'Lino': 'Oleaginosas',\n",
    "    'Maíz': 'Cereales',\n",
    "    'Mandarina': 'Frutales',\n",
    "    'Maní': 'Oleaginosas',\n",
    "    'Mijo': 'Cereales',\n",
    "    'Naranja': 'Frutales',\n",
    "    'Papa total': 'Hortalizas',\n",
    "    'Pomelo': 'Frutales',\n",
    "    'Poroto alubia': 'Legumbres',\n",
    "    'Poroto negro': 'Legumbres',\n",
    "    'Poroto otros': 'Legumbres',\n",
    "    'Poroto seco': 'Legumbres',\n",
    "    'Poroto total': 'Legumbres',\n",
    "    'Soja total': 'Oleaginosas',\n",
    "    'Soja 1ra': 'Oleaginosas',\n",
    "    'Soja 2da':'Oleaginosas',\n",
    "    'Sorgo': 'Cereales',\n",
    "    'Té': 'Industriales',\n",
    "    'Trigo candeal': 'Cereales',\n",
    "    'Trigo total': 'Cereales',\n",
    "    'Tung': 'Oleaginosas',\n",
    "    'Yerba mate': 'Industriales'\n",
    "}"
   ]
  },
  {
   "cell_type": "code",
   "execution_count": 27,
   "id": "af242829-9ad7-4c5a-a0b6-a14d538f1c57",
   "metadata": {},
   "outputs": [],
   "source": [
    "#Se crea una categoría de cultivos al df final.\n",
    "dfEstimacionesConCoordenadas['Categoria cultivo'] = dfEstimacionesConCoordenadas['cultivo'].map(cultivos)"
   ]
  },
  {
   "cell_type": "code",
   "execution_count": 28,
   "id": "1bb27637-ae10-4ded-8b23-564cf9c6faee",
   "metadata": {},
   "outputs": [
    {
     "data": {
      "text/plain": [
       "array(['Hortalizas', 'Cereales', 'Legumbres', 'Oleaginosas',\n",
       "       'Industriales', 'Frutales'], dtype=object)"
      ]
     },
     "execution_count": 28,
     "metadata": {},
     "output_type": "execute_result"
    }
   ],
   "source": [
    "dfEstimacionesConCoordenadas['Categoria cultivo'].unique()"
   ]
  },
  {
   "cell_type": "code",
   "execution_count": 29,
   "id": "699cffe9-941e-4f45-990c-7d78c8c465b4",
   "metadata": {},
   "outputs": [],
   "source": [
    "#Se exporta el dataframe en un archivo Excel\n",
    "dfEstimacionesConCoordenadas.to_excel(\"estimacionesConCoordenadas.xlsx\", index=False)"
   ]
  },
  {
   "cell_type": "code",
   "execution_count": null,
   "id": "b2b2b110-d4c4-42ab-b4dd-9b0de9e92fa8",
   "metadata": {},
   "outputs": [],
   "source": []
  }
 ],
 "metadata": {
  "kernelspec": {
   "display_name": "Python 3 (ipykernel)",
   "language": "python",
   "name": "python3"
  },
  "language_info": {
   "codemirror_mode": {
    "name": "ipython",
    "version": 3
   },
   "file_extension": ".py",
   "mimetype": "text/x-python",
   "name": "python",
   "nbconvert_exporter": "python",
   "pygments_lexer": "ipython3",
   "version": "3.11.4"
  }
 },
 "nbformat": 4,
 "nbformat_minor": 5
}
